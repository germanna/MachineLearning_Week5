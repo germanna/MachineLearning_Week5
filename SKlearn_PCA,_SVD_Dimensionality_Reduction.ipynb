{
  "nbformat": 4,
  "nbformat_minor": 0,
  "metadata": {
    "colab": {
      "name": "SKlearn_PCA,_SVD_Dimensionality_Reduction.ipynb",
      "provenance": []
    },
    "kernelspec": {
      "name": "python3",
      "display_name": "Python 3"
    },
    "language_info": {
      "name": "python"
    }
  },
  "cells": [
    {
      "cell_type": "code",
      "metadata": {
        "collapsed": true,
        "id": "apoYOk32AMqg"
      },
      "source": [
        "import pandas as pd\n",
        "import numpy as np \n",
        "from sklearn import linear_model\n",
        "from matplotlib import pyplot as plt\n",
        "from sklearn.ensemble import RandomForestClassifier\n",
        "from sklearn.model_selection import train_test_split\n",
        "from sklearn.decomposition import PCA,TruncatedSVD"
      ],
      "execution_count": null,
      "outputs": []
    },
    {
      "cell_type": "code",
      "metadata": {
        "id": "cmQZFEXuAMqh"
      },
      "source": [
        "from sklearn.datasets import load_boston\n",
        "boston = load_boston()\n",
        "df_x = pd.DataFrame(boston.data, columns=boston.feature_names)\n",
        "df_y = pd.DataFrame(boston.target)"
      ],
      "execution_count": null,
      "outputs": []
    },
    {
      "cell_type": "code",
      "metadata": {
        "id": "ZViapisyAMqi"
      },
      "source": [
        "reg = linear_model.LinearRegression()\n",
        "x_train, x_test, y_train, y_test = train_test_split(df_x,df_y,test_size=0.2, random_state=4)\n",
        "reg.fit(x_train,y_train)"
      ],
      "execution_count": null,
      "outputs": []
    },
    {
      "cell_type": "code",
      "metadata": {
        "collapsed": true,
        "id": "dWVTHtzP3lx4"
      },
      "source": [
        "import pandas as pd\n",
        "import numpy as np \n",
        "from sklearn import linear_model\n",
        "from matplotlib import pyplot as plt\n",
        "from sklearn.ensemble import RandomForestClassifier\n",
        "from sklearn.model_selection import train_test_split\n",
        "from sklearn.decomposition import PCA,TruncatedSVD"
      ],
      "execution_count": null,
      "outputs": []
    },
    {
      "cell_type": "code",
      "metadata": {
        "id": "vL5jwhSK3lx5"
      },
      "source": [
        "from sklearn.datasets import load_boston\n",
        "boston = load_boston()\n",
        "df_x = pd.DataFrame(boston.data, columns=boston.feature_names)\n",
        "df_y = pd.DataFrame(boston.target)"
      ],
      "execution_count": null,
      "outputs": []
    },
    {
      "cell_type": "code",
      "metadata": {
        "id": "-0HW3-Wn3lx5"
      },
      "source": [
        "reg = linear_model.LinearRegression()\n",
        "x_train, x_test, y_train, y_test = train_test_split(df_x,df_y,test_size=0.2, random_state=4)\n",
        "reg.fit(x_train,y_train)"
      ],
      "execution_count": null,
      "outputs": []
    },
    {
      "cell_type": "code",
      "metadata": {
        "id": "tUzeO6dS3lx5"
      },
      "source": [
        "reg.score(x_test,y_test)"
      ],
      "execution_count": null,
      "outputs": []
    },
    {
      "cell_type": "code",
      "metadata": {
        "id": "3gZOKV2D3lx5"
      },
      "source": [
        "df_x.head()"
      ],
      "execution_count": null,
      "outputs": []
    },
    {
      "cell_type": "code",
      "metadata": {
        "collapsed": true,
        "id": "ylocXCfJ3lx5"
      },
      "source": [
        "pca = PCA(n_components=10, whiten='True')\n",
        "x = pca.fit(df_x).transform(df_x)"
      ],
      "execution_count": null,
      "outputs": []
    },
    {
      "cell_type": "code",
      "metadata": {
        "id": "yDXybtzC3lx6"
      },
      "source": [
        "pca.explained_variance_"
      ],
      "execution_count": null,
      "outputs": []
    },
    {
      "cell_type": "code",
      "metadata": {
        "id": "DnrpbWuE3lx6"
      },
      "source": [
        "reg = linear_model.LinearRegression()\n",
        "x_train, x_test, y_train, y_test = train_test_split(x,df_y,test_size=0.2, random_state=4)\n",
        "reg.fit(x_train,y_train)"
      ],
      "execution_count": null,
      "outputs": []
    },
    {
      "cell_type": "code",
      "metadata": {
        "id": "Cqoykb3m3lx6"
      },
      "source": [
        "reg.score(x_test,y_test)"
      ],
      "execution_count": null,
      "outputs": []
    },
    {
      "cell_type": "code",
      "metadata": {
        "id": "H8lQXoaX3lx6"
      },
      "source": [
        "svd = TruncatedSVD(n_components = 10)\n",
        "x = svd.fit(df_x).transform(df_x)\n",
        "reg = linear_model.LinearRegression()\n",
        "x_train, x_test, y_train, y_test = train_test_split(x,df_y,test_size=0.2, random_state=4)\n",
        "reg.fit(x_train,y_train)"
      ],
      "execution_count": null,
      "outputs": []
    },
    {
      "cell_type": "code",
      "metadata": {
        "id": "9aIvZCsz3lx6"
      },
      "source": [
        "reg.score(x_test,y_test)"
      ],
      "execution_count": null,
      "outputs": []
    },
    {
      "cell_type": "code",
      "metadata": {
        "id": "4H2V3C2U3lx6"
      },
      "source": [
        "df_x.corr()"
      ],
      "execution_count": null,
      "outputs": []
    },
    {
      "cell_type": "code",
      "metadata": {
        "collapsed": true,
        "id": "zsaZAzuy3lx6"
      },
      "source": [
        "data=pd.read_csv('housing.csv')"
      ],
      "execution_count": null,
      "outputs": []
    },
    {
      "cell_type": "code",
      "metadata": {
        "id": "85ne3sT53lx7"
      },
      "source": [
        "data.head()"
      ],
      "execution_count": null,
      "outputs": []
    },
    {
      "cell_type": "code",
      "metadata": {
        "collapsed": true,
        "id": "w0q1sxl-3lx7"
      },
      "source": [
        "df_x = data.iloc[:,1:]\n",
        "df_y = data.iloc[:,0]"
      ],
      "execution_count": null,
      "outputs": []
    },
    {
      "cell_type": "code",
      "metadata": {
        "id": "P89Gt6u13lx7"
      },
      "source": [
        "x_train, x_test, y_train, y_test = train_test_split(df_x,df_y,test_size=0.2, random_state=4)\n",
        "rf = RandomForestClassifier(n_estimators = 50)\n",
        "rf.fit(x_train,y_train)"
      ],
      "execution_count": null,
      "outputs": []
    },
    {
      "cell_type": "code",
      "metadata": {
        "collapsed": true,
        "id": "mkAsycJY3lx7"
      },
      "source": [
        "pred = rf.predict(x_test)"
      ],
      "execution_count": null,
      "outputs": []
    },
    {
      "cell_type": "code",
      "metadata": {
        "collapsed": true,
        "id": "ZhHNi17g3lx7"
      },
      "source": [
        "s = y_test.values\n",
        "count = 0\n",
        "for i in range(len(pred)):\n",
        "    if pred[i]==s[i]:\n",
        "        count = count + 1"
      ],
      "execution_count": null,
      "outputs": []
    },
    {
      "cell_type": "code",
      "metadata": {
        "id": "ZpZ2jGK43lx7"
      },
      "source": [
        "count/float(len(pred))"
      ],
      "execution_count": null,
      "outputs": []
    },
    {
      "cell_type": "code",
      "metadata": {
        "collapsed": true,
        "id": "l0n9oVv23lx7"
      },
      "source": [
        "pca = PCA(n_components=10, whiten='True')\n",
        "x = pca.fit(df_x).transform(df_x)\n",
        "x_train, x_test, y_train, y_test = train_test_split(x,df_y,test_size=0.2, random_state=4)\n",
        "rf = RandomForestClassifier(n_estimators = 50)\n",
        "rf.fit(x_train,y_train)\n",
        "pred = rf.predict(x_test)\n",
        "s = y_test.values\n",
        "count = 0\n",
        "for i in range(len(pred)):\n",
        "    if pred[i]==s[i]:\n",
        "        count = count + 1"
      ],
      "execution_count": null,
      "outputs": []
    },
    {
      "cell_type": "code",
      "metadata": {
        "id": "XsAfYnqk3lx7"
      },
      "source": [
        "count/float(len(pred))"
      ],
      "execution_count": null,
      "outputs": []
    },
    {
      "cell_type": "code",
      "metadata": {
        "id": "hHc731p73lx8"
      },
      "source": [
        "pca.explained_variance_"
      ],
      "execution_count": null,
      "outputs": []
    },
    {
      "cell_type": "code",
      "metadata": {
        "collapsed": true,
        "id": "JqDhVlqx3lx8"
      },
      "source": [
        "pca = PCA(n_components=2, whiten='True')\n",
        "x = pca.fit(df_x).transform(df_x)\n",
        "x_train, x_test, y_train, y_test = train_test_split(x,df_y,test_size=0.2, random_state=4)\n",
        "rf = RandomForestClassifier(n_estimators = 50)\n",
        "rf.fit(x_train,y_train)\n",
        "pred = rf.predict(x_test)\n",
        "s = y_test.values\n",
        "count = 0\n",
        "for i in range(len(pred)):\n",
        "    if pred[i]==s[i]:\n",
        "        count = count + 1"
      ],
      "execution_count": null,
      "outputs": []
    },
    {
      "cell_type": "code",
      "metadata": {
        "id": "fXVn7lkO3lx8"
      },
      "source": [
        "count/float(len(pred))"
      ],
      "execution_count": null,
      "outputs": []
    },
    {
      "cell_type": "code",
      "metadata": {
        "id": "XVDFI-yw3lx8"
      },
      "source": [
        "y = df_y.values\n",
        "for i in range(5000):\n",
        "    if y[i]==0:\n",
        "        plt.scatter(x[i,1],x[i,0],c='r')\n",
        "    else:\n",
        "        plt.scatter(x[i,1],x[i,0],c='g')\n",
        "plt.show()"
      ],
      "execution_count": null,
      "outputs": []
    },
    {
      "cell_type": "code",
      "metadata": {
        "collapsed": true,
        "id": "9qw4MyWw3lx8"
      },
      "source": [
        ""
      ],
      "execution_count": null,
      "outputs": []
    },
    {
      "cell_type": "code",
      "metadata": {
        "id": "AVDpXDXKAMqj"
      },
      "source": [
        "reg.score(x_test,y_test)"
      ],
      "execution_count": null,
      "outputs": []
    },
    {
      "cell_type": "code",
      "metadata": {
        "id": "_wsfX-M4AMqj"
      },
      "source": [
        "df_x.head()"
      ],
      "execution_count": null,
      "outputs": []
    },
    {
      "cell_type": "code",
      "metadata": {
        "collapsed": true,
        "id": "Yz5eo2qfAMqj"
      },
      "source": [
        "pca = PCA(n_components=10, whiten='True')\n",
        "x = pca.fit(df_x).transform(df_x)"
      ],
      "execution_count": null,
      "outputs": []
    },
    {
      "cell_type": "code",
      "metadata": {
        "id": "YBONBtqeAMqk"
      },
      "source": [
        "pca.explained_variance_"
      ],
      "execution_count": null,
      "outputs": []
    },
    {
      "cell_type": "code",
      "metadata": {
        "id": "bspZfamgAMqk"
      },
      "source": [
        "reg = linear_model.LinearRegression()\n",
        "x_train, x_test, y_train, y_test = train_test_split(x,df_y,test_size=0.2, random_state=4)\n",
        "reg.fit(x_train,y_train)"
      ],
      "execution_count": null,
      "outputs": []
    },
    {
      "cell_type": "code",
      "metadata": {
        "id": "LvUuWKKIAMqk"
      },
      "source": [
        "reg.score(x_test,y_test)"
      ],
      "execution_count": null,
      "outputs": []
    },
    {
      "cell_type": "code",
      "metadata": {
        "id": "8grqY3T8AMql"
      },
      "source": [
        "svd = TruncatedSVD(n_components = 10)\n",
        "x = svd.fit(df_x).transform(df_x)\n",
        "reg = linear_model.LinearRegression()\n",
        "x_train, x_test, y_train, y_test = train_test_split(x,df_y,test_size=0.2, random_state=4)\n",
        "reg.fit(x_train,y_train)"
      ],
      "execution_count": null,
      "outputs": []
    },
    {
      "cell_type": "code",
      "metadata": {
        "id": "9n-ApdhxAMql"
      },
      "source": [
        "reg.score(x_test,y_test)"
      ],
      "execution_count": null,
      "outputs": []
    },
    {
      "cell_type": "code",
      "metadata": {
        "id": "4apleolMAMqm"
      },
      "source": [
        "df_x.corr()"
      ],
      "execution_count": null,
      "outputs": []
    },
    {
      "cell_type": "code",
      "metadata": {
        "collapsed": true,
        "id": "1d13THK6AMqm"
      },
      "source": [
        "data=pd.read_csv('housing.csv')"
      ],
      "execution_count": null,
      "outputs": []
    },
    {
      "cell_type": "code",
      "metadata": {
        "id": "xpvTo7K5AMqn"
      },
      "source": [
        "data.head()"
      ],
      "execution_count": null,
      "outputs": []
    },
    {
      "cell_type": "code",
      "metadata": {
        "collapsed": true,
        "id": "_686GdGhAMqn"
      },
      "source": [
        "df_x = data.iloc[:,1:]\n",
        "df_y = data.iloc[:,0]"
      ],
      "execution_count": null,
      "outputs": []
    },
    {
      "cell_type": "code",
      "metadata": {
        "id": "2FERuhc-AMqn"
      },
      "source": [
        "x_train, x_test, y_train, y_test = train_test_split(df_x,df_y,test_size=0.2, random_state=4)\n",
        "rf = RandomForestClassifier(n_estimators = 50)\n",
        "rf.fit(x_train,y_train)"
      ],
      "execution_count": null,
      "outputs": []
    },
    {
      "cell_type": "code",
      "metadata": {
        "collapsed": true,
        "id": "RIwCuFCNAMqo"
      },
      "source": [
        "pred = rf.predict(x_test)"
      ],
      "execution_count": null,
      "outputs": []
    },
    {
      "cell_type": "code",
      "metadata": {
        "collapsed": true,
        "id": "yLfz-2sSAMqo"
      },
      "source": [
        "s = y_test.values\n",
        "count = 0\n",
        "for i in range(len(pred)):\n",
        "    if pred[i]==s[i]:\n",
        "        count = count + 1"
      ],
      "execution_count": null,
      "outputs": []
    },
    {
      "cell_type": "code",
      "metadata": {
        "id": "VUartnsLAMqo"
      },
      "source": [
        "count/float(len(pred))"
      ],
      "execution_count": null,
      "outputs": []
    },
    {
      "cell_type": "code",
      "metadata": {
        "collapsed": true,
        "id": "w0Oz1QK3AMqo"
      },
      "source": [
        "pca = PCA(n_components=10, whiten='True')\n",
        "x = pca.fit(df_x).transform(df_x)\n",
        "x_train, x_test, y_train, y_test = train_test_split(x,df_y,test_size=0.2, random_state=4)\n",
        "rf = RandomForestClassifier(n_estimators = 50)\n",
        "rf.fit(x_train,y_train)\n",
        "pred = rf.predict(x_test)\n",
        "s = y_test.values\n",
        "count = 0\n",
        "for i in range(len(pred)):\n",
        "    if pred[i]==s[i]:\n",
        "        count = count + 1"
      ],
      "execution_count": null,
      "outputs": []
    },
    {
      "cell_type": "code",
      "metadata": {
        "id": "KKp3uXL7AMqp"
      },
      "source": [
        "count/float(len(pred))"
      ],
      "execution_count": null,
      "outputs": []
    },
    {
      "cell_type": "code",
      "metadata": {
        "id": "TOKkG4c7AMqp"
      },
      "source": [
        "pca.explained_variance_"
      ],
      "execution_count": null,
      "outputs": []
    },
    {
      "cell_type": "code",
      "metadata": {
        "collapsed": true,
        "id": "NJOTEAe5AMqp"
      },
      "source": [
        "pca = PCA(n_components=2, whiten='True')\n",
        "x = pca.fit(df_x).transform(df_x)\n",
        "x_train, x_test, y_train, y_test = train_test_split(x,df_y,test_size=0.2, random_state=4)\n",
        "rf = RandomForestClassifier(n_estimators = 50)\n",
        "rf.fit(x_train,y_train)\n",
        "pred = rf.predict(x_test)\n",
        "s = y_test.values\n",
        "count = 0\n",
        "for i in range(len(pred)):\n",
        "    if pred[i]==s[i]:\n",
        "        count = count + 1"
      ],
      "execution_count": null,
      "outputs": []
    },
    {
      "cell_type": "code",
      "metadata": {
        "id": "hNCYcDmeAMqq"
      },
      "source": [
        "count/float(len(pred))"
      ],
      "execution_count": null,
      "outputs": []
    },
    {
      "cell_type": "code",
      "metadata": {
        "id": "v2tEkcKuAMqq"
      },
      "source": [
        "y = df_y.values\n",
        "for i in range(5000):\n",
        "    if y[i]==0:\n",
        "        plt.scatter(x[i,1],x[i,0],c='r')\n",
        "    else:\n",
        "        plt.scatter(x[i,1],x[i,0],c='g')\n",
        "plt.show()"
      ],
      "execution_count": null,
      "outputs": []
    },
    {
      "cell_type": "code",
      "metadata": {
        "collapsed": true,
        "id": "k1Ae-dSXAMqr"
      },
      "source": [
        ""
      ],
      "execution_count": null,
      "outputs": []
    }
  ]
}