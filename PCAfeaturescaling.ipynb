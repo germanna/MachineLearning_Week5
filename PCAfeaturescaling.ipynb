{
  "nbformat": 4,
  "nbformat_minor": 0,
  "metadata": {
    "colab": {
      "name": "Untitled2.ipynb",
      "provenance": []
    },
    "kernelspec": {
      "name": "python3",
      "display_name": "Python 3"
    },
    "language_info": {
      "name": "python"
    }
  },
  "cells": [
    {
      "cell_type": "code",
      "metadata": {
        "id": "WYv5dXZefCZM"
      },
      "source": [
        "from sklearn.model_selection import train_test_split\n",
        "from sklearn.preprocessing import StandardScaler\n",
        "from sklearn.decomposition import PCA\n",
        "from sklearn.naive_bayes import GaussianNB\n",
        "from sklearn import metrics\n",
        "import matplotlib.pyplot as plt\n",
        "from sklearn.datasets import load_wine\n",
        "from sklearn.pipeline import make_pipeline\n",
        "\n",
        "# Code source: Tyler Lanigan <tylerlanigan@gmail.com>\n",
        "#              Sebastian Raschka <mail@sebastianraschka.com>\n",
        "\n",
        "# License: BSD 3 clause"
      ],
      "execution_count": null,
      "outputs": []
    },
    {
      "cell_type": "code",
      "metadata": {
        "id": "bn3ZJEB-fxo4"
      },
      "source": [
        "RANDOM_STATE = 42\n",
        "FIG_SIZE = (10, 7)"
      ],
      "execution_count": null,
      "outputs": []
    },
    {
      "cell_type": "code",
      "metadata": {
        "id": "RdY_-ZQUf36R"
      },
      "source": [
        "features, target = load_wine(return_X_y=True)"
      ],
      "execution_count": null,
      "outputs": []
    },
    {
      "cell_type": "code",
      "metadata": {
        "id": "EujAPOyBf63f"
      },
      "source": [
        "# Make a train/test split using 30% test size\n",
        "X_train, X_test, y_train, y_test = train_test_split(\n",
        "    features, target, test_size=0.30, random_state=RANDOM_STATE\n",
        ")"
      ],
      "execution_count": null,
      "outputs": []
    },
    {
      "cell_type": "code",
      "metadata": {
        "id": "dDHmmfiGf9SJ"
      },
      "source": [
        "# Fit to data and predict using pipelined GNB and PCA.\n",
        "unscaled_clf = make_pipeline(PCA(n_components=2), GaussianNB())\n",
        "unscaled_clf.fit(X_train, y_train)\n",
        "pred_test = unscaled_clf.predict(X_test)"
      ],
      "execution_count": null,
      "outputs": []
    },
    {
      "cell_type": "code",
      "metadata": {
        "id": "Kk8Qpb0RgEcc"
      },
      "source": [
        "# Fit to data and predict using pipelined scaling, GNB and PCA.\n",
        "std_clf = make_pipeline(StandardScaler(), PCA(n_components=2), GaussianNB())\n",
        "std_clf.fit(X_train, y_train)\n",
        "pred_test_std = std_clf.predict(X_test)\n"
      ],
      "execution_count": null,
      "outputs": []
    },
    {
      "cell_type": "code",
      "metadata": {
        "id": "g1IROGRWgJ2I"
      },
      "source": [
        "# Show prediction accuracies in scaled and unscaled data.\n",
        "print(\"\\nPrediction accuracy for the normal test dataset with PCA\")\n",
        "print(\"{:.2%}\\n\".format(metrics.accuracy_score(y_test, pred_test)))"
      ],
      "execution_count": null,
      "outputs": []
    },
    {
      "cell_type": "code",
      "metadata": {
        "id": "MSQHkme5gMmo"
      },
      "source": [
        "print(\"\\nPrediction accuracy for the standardized test dataset with PCA\")\n",
        "print(\"{:.2%}\\n\".format(metrics.accuracy_score(y_test, pred_test_std)))"
      ],
      "execution_count": null,
      "outputs": []
    },
    {
      "cell_type": "code",
      "metadata": {
        "id": "PNdmXxw4gPXz"
      },
      "source": [
        "# Extract PCA from pipeline\n",
        "pca = unscaled_clf.named_steps[\"pca\"]\n",
        "pca_std = std_clf.named_steps[\"pca\"]"
      ],
      "execution_count": null,
      "outputs": []
    },
    {
      "cell_type": "code",
      "metadata": {
        "id": "vONx5R4RgSBi"
      },
      "source": [
        "# Show first principal components\n",
        "print(\"\\nPC 1 without scaling:\\n\", pca.components_[0])\n",
        "print(\"\\nPC 1 with scaling:\\n\", pca_std.components_[0])"
      ],
      "execution_count": null,
      "outputs": []
    },
    {
      "cell_type": "code",
      "metadata": {
        "id": "KCBRQMYSgcL0"
      },
      "source": [
        "# Use PCA without and with scale on X_train data for visualization.\n",
        "X_train_transformed = pca.transform(X_train)\n",
        "scaler = std_clf.named_steps[\"standardscaler\"]\n",
        "X_train_std_transformed = pca_std.transform(scaler.transform(X_train))\n"
      ],
      "execution_count": null,
      "outputs": []
    },
    {
      "cell_type": "code",
      "metadata": {
        "colab": {
          "base_uri": "https://localhost:8080/",
          "height": 231
        },
        "id": "baJF4ejtgfWO",
        "outputId": "d84223a3-a920-4e67-a3e4-2fe919b3ceb1"
      },
      "source": [
        "# visualize standardized vs. untouched dataset with PCA performed\n",
        "fig, (ax1, ax2) = plt.subplots(ncols=2, figsize=FIG_SIZE)\n",
        "for l, c, m in zip(range(0, 3), (\"blue\", \"red\", \"green\"), (\"^\", \"s\", \"o\")):\n",
        "    ax1.scatter(\n",
        "        X_train_transformed[y_train == l, 0],\n",
        "        X_train_transformed[y_train == l, 1],\n",
        "        color=c,\n",
        "        label=\"class %s\" % l,\n",
        "        alpha=0.5,\n",
        "        marker=m,\n",
        "    )\n",
        "\n",
        "for l, c, m in zip(range(0, 3), (\"blue\", \"red\", \"green\"), (\"^\", \"s\", \"o\")):\n",
        "    ax2.scatter(\n",
        "        X_train_std_transformed[y_train == l, 0],\n",
        "        X_train_std_transformed[y_train == l, 1],\n",
        "        color=c,\n",
        "        label=\"class %s\" % l,\n",
        "        alpha=0.5,\n",
        "        marker=m,\n",
        "    )\n",
        "    ax1.set_title(\"Training dataset after PCA\")\n",
        "ax2.set_title(\"Standardized training dataset after PCA\")\n",
        "for ax in (ax1, ax2):\n",
        "    ax.set_xlabel(\"1st principal component\")\n",
        "    ax.set_ylabel(\"2nd principal component\")\n",
        "    ax.legend(loc=\"upper right\")\n",
        "    ax.grid()\n",
        "\n",
        "    plt.tight_layout()\n",
        "    plt.show()\n",
        "    \n",
        "\n"
      ],
      "execution_count": 1,
      "outputs": [
        {
          "output_type": "error",
          "ename": "NameError",
          "evalue": "ignored",
          "traceback": [
            "\u001b[0;31m---------------------------------------------------------------------------\u001b[0m",
            "\u001b[0;31mNameError\u001b[0m                                 Traceback (most recent call last)",
            "\u001b[0;32m<ipython-input-1-e991a7ae0f0f>\u001b[0m in \u001b[0;36m<module>\u001b[0;34m()\u001b[0m\n\u001b[1;32m      1\u001b[0m \u001b[0;31m# visualize standardized vs. untouched dataset with PCA performed\u001b[0m\u001b[0;34m\u001b[0m\u001b[0;34m\u001b[0m\u001b[0;34m\u001b[0m\u001b[0m\n\u001b[0;32m----> 2\u001b[0;31m \u001b[0mfig\u001b[0m\u001b[0;34m,\u001b[0m \u001b[0;34m(\u001b[0m\u001b[0max1\u001b[0m\u001b[0;34m,\u001b[0m \u001b[0max2\u001b[0m\u001b[0;34m)\u001b[0m \u001b[0;34m=\u001b[0m \u001b[0mplt\u001b[0m\u001b[0;34m.\u001b[0m\u001b[0msubplots\u001b[0m\u001b[0;34m(\u001b[0m\u001b[0mncols\u001b[0m\u001b[0;34m=\u001b[0m\u001b[0;36m2\u001b[0m\u001b[0;34m,\u001b[0m \u001b[0mfigsize\u001b[0m\u001b[0;34m=\u001b[0m\u001b[0mFIG_SIZE\u001b[0m\u001b[0;34m)\u001b[0m\u001b[0;34m\u001b[0m\u001b[0;34m\u001b[0m\u001b[0m\n\u001b[0m\u001b[1;32m      3\u001b[0m \u001b[0;32mfor\u001b[0m \u001b[0ml\u001b[0m\u001b[0;34m,\u001b[0m \u001b[0mc\u001b[0m\u001b[0;34m,\u001b[0m \u001b[0mm\u001b[0m \u001b[0;32min\u001b[0m \u001b[0mzip\u001b[0m\u001b[0;34m(\u001b[0m\u001b[0mrange\u001b[0m\u001b[0;34m(\u001b[0m\u001b[0;36m0\u001b[0m\u001b[0;34m,\u001b[0m \u001b[0;36m3\u001b[0m\u001b[0;34m)\u001b[0m\u001b[0;34m,\u001b[0m \u001b[0;34m(\u001b[0m\u001b[0;34m\"blue\"\u001b[0m\u001b[0;34m,\u001b[0m \u001b[0;34m\"red\"\u001b[0m\u001b[0;34m,\u001b[0m \u001b[0;34m\"green\"\u001b[0m\u001b[0;34m)\u001b[0m\u001b[0;34m,\u001b[0m \u001b[0;34m(\u001b[0m\u001b[0;34m\"^\"\u001b[0m\u001b[0;34m,\u001b[0m \u001b[0;34m\"s\"\u001b[0m\u001b[0;34m,\u001b[0m \u001b[0;34m\"o\"\u001b[0m\u001b[0;34m)\u001b[0m\u001b[0;34m)\u001b[0m\u001b[0;34m:\u001b[0m\u001b[0;34m\u001b[0m\u001b[0;34m\u001b[0m\u001b[0m\n\u001b[1;32m      4\u001b[0m     ax1.scatter(\n\u001b[1;32m      5\u001b[0m         \u001b[0mX_train_transformed\u001b[0m\u001b[0;34m[\u001b[0m\u001b[0my_train\u001b[0m \u001b[0;34m==\u001b[0m \u001b[0ml\u001b[0m\u001b[0;34m,\u001b[0m \u001b[0;36m0\u001b[0m\u001b[0;34m]\u001b[0m\u001b[0;34m,\u001b[0m\u001b[0;34m\u001b[0m\u001b[0;34m\u001b[0m\u001b[0m\n",
            "\u001b[0;31mNameError\u001b[0m: name 'plt' is not defined"
          ]
        }
      ]
    }
  ]
}